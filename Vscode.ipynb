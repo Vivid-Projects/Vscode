{
 "cells": [
  {
   "cell_type": "code",
   "execution_count": null,
   "id": "fa167b9c-3be1-411f-adf3-e5055d2bbe35",
   "metadata": {
    "cellStatus": "{\"vivid\":{\"session_start_time\":\"2025-07-01T11:24:58.3495618Z\",\"execution_start_time\":\"2025-07-01T11:25:10.7864209Z\",\"execution_finish_time\":\"2025-07-01T11:25:15.7912858Z\",\"state\":\"finished\",\"livy_statement_state\":\"available\",\"normalized_state\":\"finished\"}}",
    "microsoft": {
     "language": "python",
     "language_group": "synapse_pyspark"
    }
   },
   "outputs": [
    {
     "data": {
      "application/vnd.livy.statement-meta+json": {
       "execution_finish_time": "2025-07-01T11:40:15.6073235Z",
       "execution_start_time": "2025-07-01T11:40:15.3365193Z",
       "livy_statement_state": "available",
       "normalized_state": "finished",
       "parent_msg_id": "79695482-d6e1-4f12-a78d-72ac1a008e16",
       "queued_time": "2025-07-01T11:40:15.3353468Z",
       "session_id": "27e4a36b-5568-4046-b7b7-4e3001ce033b",
       "session_start_time": null,
       "spark_jobs": {
        "jobs": [],
        "limit": 20,
        "numbers": {
         "FAILED": 0,
         "RUNNING": 0,
         "SUCCEEDED": 0,
         "UNKNOWN": 0
        },
        "rule": "ALL_DESC"
       },
       "spark_pool": null,
       "state": "finished",
       "statement_id": 9,
       "statement_ids": [
        9
       ]
      },
      "text/plain": [
       "StatementMeta(, 27e4a36b-5568-4046-b7b7-4e3001ce033b, 9, Finished, Available, Finished)"
      ]
     },
     "metadata": {},
     "output_type": "display_data"
    }
   ],
   "source": [
    "# Welcome to your new notebook\n",
    "# Type here in the cell editor to add code!\n",
    "import pandas as pd\n",
    "import numpy as np\n"
   ]
  },
  {
   "cell_type": "code",
   "execution_count": null,
   "id": "e93cd749-6703-400b-978f-ee79798bf926",
   "metadata": {
    "microsoft": {
     "language": "python",
     "language_group": "synapse_pyspark"
    }
   },
   "outputs": [
    {
     "data": {
      "application/vnd.livy.statement-meta+json": {
       "execution_finish_time": "2025-07-01T11:40:30.1950251Z",
       "execution_start_time": "2025-07-01T11:40:29.9214773Z",
       "livy_statement_state": "available",
       "normalized_state": "finished",
       "parent_msg_id": "cf16e457-8845-4665-b155-210ef90c987b",
       "queued_time": "2025-07-01T11:40:29.9204637Z",
       "session_id": "27e4a36b-5568-4046-b7b7-4e3001ce033b",
       "session_start_time": null,
       "spark_jobs": {
        "jobs": [],
        "limit": 20,
        "numbers": {
         "FAILED": 0,
         "RUNNING": 0,
         "SUCCEEDED": 0,
         "UNKNOWN": 0
        },
        "rule": "ALL_DESC"
       },
       "spark_pool": null,
       "state": "finished",
       "statement_id": 26,
       "statement_ids": [
        26
       ]
      },
      "text/plain": [
       "StatementMeta(, 27e4a36b-5568-4046-b7b7-4e3001ce033b, 26, Finished, Available, Finished)"
      ]
     },
     "metadata": {},
     "output_type": "display_data"
    },
    {
     "data": {
      "text/html": [
       "\n",
       "            <div>\n",
       "                <p><b>SparkSession - hive</b></p>\n",
       "                \n",
       "        <div>\n",
       "            <p><b>SparkContext</b></p>\n",
       "\n",
       "            <p><a href=\"https://sparkui.fabric.microsoft.com/sparkui/be82b296-deb4-458e-a48c-91b2b8a0bab8/workspaceTypes/datacloud/workspaces/36952dd4-29ea-4c9a-85fa-b35583ab33cc/activities/27e4a36b-5568-4046-b7b7-4e3001ce033b/applications/application_1751369160149_0001/jobs?capacityId=7c9e7a4b-1edb-4d96-9f0e-6c38493925ef&pbiApi=api.fabric.microsoft.com&artifactId=74d29e74-4b03-4d96-8198-5a69d6d38f7d\">Spark UI</a></p>\n",
       "\n",
       "            <dl>\n",
       "              <dt>Version</dt>\n",
       "                <dd><code>v3.5.1.5.4.20250519.1</code></dd>\n",
       "              <dt>Master</dt>\n",
       "                <dd><code>yarn</code></dd>\n",
       "              <dt>AppName</dt>\n",
       "                <dd><code>Vscode_27e4a36b-5568-4046-b7b7-4e3001ce033b_vscoderemote</code></dd>\n",
       "            </dl>\n",
       "        </div>\n",
       "        \n",
       "            </div>\n",
       "        "
      ],
      "text/plain": [
       "<pyspark.sql.session.SparkSession at 0x746dd7760690>"
      ]
     },
     "execution_count": 77,
     "metadata": {},
     "output_type": "execute_result"
    }
   ],
   "source": [
    "spark"
   ]
  },
  {
   "cell_type": "code",
   "execution_count": null,
   "id": "b69236b9",
   "metadata": {},
   "outputs": [],
   "source": []
  }
 ],
 "metadata": {
  "dependencies": {},
  "kernel_info": {
   "name": "synapse_pyspark"
  },
  "kernelspec": {
   "display_name": "PySpark",
   "language": "Python",
   "name": "synapse_pyspark"
  },
  "language_info": {
   "codemirror_mode": "ipython",
   "file_extension": ".py",
   "mimetype": "text/x-python",
   "name": "python",
   "nbconvert_exporter": "python",
   "pygments_lexer": "ipython",
   "version": "3.8.0"
  },
  "microsoft": {
   "language": "python",
   "language_group": "synapse_pyspark",
   "ms_spell_check": {
    "ms_spell_check_language": "en"
   }
  },
  "nteract": {
   "version": "nteract-front-end@1.0.0"
  },
  "spark_compute": {
   "compute_id": "/trident/default",
   "session_options": {
    "conf": {
     "spark.synapse.nbs.session.timeout": "1200000"
    }
   }
  }
 },
 "nbformat": 4,
 "nbformat_minor": 5
}
