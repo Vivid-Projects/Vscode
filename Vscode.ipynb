{
 "cells": [
  {
   "cell_type": "code",
   "execution_count": 2,
   "id": "fa167b9c-3be1-411f-adf3-e5055d2bbe35",
   "metadata": {
    "cellStatus": "{\"vivid\":{\"session_start_time\":\"2025-07-01T11:24:58.3495618Z\",\"execution_start_time\":\"2025-07-01T11:25:10.7864209Z\",\"execution_finish_time\":\"2025-07-01T11:25:15.7912858Z\",\"state\":\"finished\",\"livy_statement_state\":\"available\",\"normalized_state\":\"finished\"}}",
    "microsoft": {
     "language": "python",
     "language_group": "synapse_pyspark"
    }
   },
   "outputs": [
    {
     "data": {
      "application/vnd.livy.statement-meta+json": {
       "execution_finish_time": "2025-07-01T11:54:25.5887922Z",
       "execution_start_time": "2025-07-01T11:54:24.7203256Z",
       "livy_statement_state": "available",
       "normalized_state": "finished",
       "parent_msg_id": "6bd497a5-4a27-4823-a669-b6742bc349ef",
       "queued_time": "2025-07-01T11:54:24.7193021Z",
       "session_id": "127e8a5a-d9f4-4bfa-8b59-7f3a8363207c",
       "session_start_time": null,
       "spark_jobs": {
        "jobs": [],
        "limit": 20,
        "numbers": {
         "FAILED": 0,
         "RUNNING": 0,
         "SUCCEEDED": 0,
         "UNKNOWN": 0
        },
        "rule": "ALL_DESC"
       },
       "spark_pool": null,
       "state": "finished",
       "statement_id": 9,
       "statement_ids": [
        9
       ]
      },
      "text/plain": [
       "StatementMeta(, 127e8a5a-d9f4-4bfa-8b59-7f3a8363207c, 9, Finished, Available, Finished)"
      ]
     },
     "metadata": {},
     "output_type": "display_data"
    }
   ],
   "source": [
    "# Welcome to your new notebook\n",
    "# Type here in the cell editor to add code!\n",
    "import pandas as pd\n",
    "import numpy as np\n"
   ]
  },
  {
   "cell_type": "code",
   "execution_count": null,
   "id": "6b2991a4",
   "metadata": {},
   "outputs": [
    {
     "data": {
      "application/vnd.livy.statement-meta+json": {
       "execution_finish_time": "2025-07-01T12:01:46.0547865Z",
       "execution_start_time": "2025-07-01T12:01:45.7469781Z",
       "livy_statement_state": "available",
       "normalized_state": "finished",
       "parent_msg_id": "4f923009-8f44-46bd-a427-448a92a4a581",
       "queued_time": "2025-07-01T12:01:45.7459248Z",
       "session_id": "127e8a5a-d9f4-4bfa-8b59-7f3a8363207c",
       "session_start_time": null,
       "spark_jobs": {
        "jobs": [],
        "limit": 20,
        "numbers": {
         "FAILED": 0,
         "RUNNING": 0,
         "SUCCEEDED": 0,
         "UNKNOWN": 0
        },
        "rule": "ALL_DESC"
       },
       "spark_pool": null,
       "state": "finished",
       "statement_id": 22,
       "statement_ids": [
        22
       ]
      },
      "text/plain": [
       "StatementMeta(, 127e8a5a-d9f4-4bfa-8b59-7f3a8363207c, 22, Finished, Available, Finished)"
      ]
     },
     "metadata": {},
     "output_type": "display_data"
    },
    {
     "data": {
      "text/html": [
       "\n",
       "            <div>\n",
       "                <p><b>SparkSession - hive</b></p>\n",
       "                \n",
       "        <div>\n",
       "            <p><b>SparkContext</b></p>\n",
       "\n",
       "            <p><a href=\"https://sparkui.fabric.microsoft.com/sparkui/be82b296-deb4-458e-a48c-91b2b8a0bab8/workspaceTypes/datacloud/workspaces/36952dd4-29ea-4c9a-85fa-b35583ab33cc/activities/127e8a5a-d9f4-4bfa-8b59-7f3a8363207c/applications/application_1751370430538_0001/jobs?capacityId=7c9e7a4b-1edb-4d96-9f0e-6c38493925ef&pbiApi=api.fabric.microsoft.com&artifactId=74d29e74-4b03-4d96-8198-5a69d6d38f7d\">Spark UI</a></p>\n",
       "\n",
       "            <dl>\n",
       "              <dt>Version</dt>\n",
       "                <dd><code>v3.5.1.5.4.20250519.1</code></dd>\n",
       "              <dt>Master</dt>\n",
       "                <dd><code>yarn</code></dd>\n",
       "              <dt>AppName</dt>\n",
       "                <dd><code>Vscode_127e8a5a-d9f4-4bfa-8b59-7f3a8363207c_vscoderemote</code></dd>\n",
       "            </dl>\n",
       "        </div>\n",
       "        \n",
       "            </div>\n",
       "        "
      ],
      "text/plain": [
       "<pyspark.sql.session.SparkSession at 0x7aabf094f310>"
      ]
     },
     "execution_count": 65,
     "metadata": {},
     "output_type": "execute_result"
    }
   ],
   "source": [
    "spark"
   ]
  },
  {
   "cell_type": "code",
   "execution_count": 12,
   "id": "7603ba09",
   "metadata": {},
   "outputs": [
    {
     "data": {
      "application/vnd.livy.statement-meta+json": {
       "execution_finish_time": "2025-07-01T12:05:19.5514184Z",
       "execution_start_time": "2025-07-01T12:05:07.8593285Z",
       "livy_statement_state": "available",
       "normalized_state": "finished",
       "parent_msg_id": "78dbed53-26cd-48d6-8cdf-7d76eeba29ac",
       "queued_time": "2025-07-01T12:05:07.8581511Z",
       "session_id": "127e8a5a-d9f4-4bfa-8b59-7f3a8363207c",
       "session_start_time": null,
       "spark_jobs": {
        "jobs": [
         {
          "completionTime": "2025-07-01T12:05:18.768GMT",
          "dataRead": 0,
          "dataWritten": 0,
          "description": "Job group for statement 51:\ndf = spark.read.csv('abfss://36952dd4-29ea-4c9a-85fa-b35583ab33cc@onelake.dfs.fabric.microsoft.com/466e2184-c19b-4669-a1ea-0398d3683846/Files/2023-03-btp-street.csv', header=True, inferSchema=True)\ndf.show(5)\n",
          "displayName": "showString at NativeMethodAccessorImpl.java:0",
          "jobGroup": "51",
          "jobId": 11,
          "jobTags": [],
          "killedTasksSummary": {},
          "name": "showString at NativeMethodAccessorImpl.java:0",
          "numActiveStages": 0,
          "numActiveTasks": 0,
          "numCompletedIndices": 1,
          "numCompletedStages": 1,
          "numCompletedTasks": 1,
          "numFailedStages": 0,
          "numFailedTasks": 0,
          "numKilledTasks": 0,
          "numSkippedStages": 0,
          "numSkippedTasks": 0,
          "numTasks": 1,
          "rowCount": 6,
          "stageIds": [
           15
          ],
          "status": "SUCCEEDED",
          "submissionTime": "2025-07-01T12:05:18.381GMT",
          "usageDescription": ""
         },
         {
          "completionTime": "2025-07-01T12:05:18.231GMT",
          "dataRead": 533286,
          "dataWritten": 0,
          "description": "Job group for statement 51:\ndf = spark.read.csv('abfss://36952dd4-29ea-4c9a-85fa-b35583ab33cc@onelake.dfs.fabric.microsoft.com/466e2184-c19b-4669-a1ea-0398d3683846/Files/2023-03-btp-street.csv', header=True, inferSchema=True)\ndf.show(5)\n",
          "displayName": "csv at NativeMethodAccessorImpl.java:0",
          "jobGroup": "51",
          "jobId": 10,
          "jobTags": [],
          "killedTasksSummary": {},
          "name": "csv at NativeMethodAccessorImpl.java:0",
          "numActiveStages": 0,
          "numActiveTasks": 0,
          "numCompletedIndices": 1,
          "numCompletedStages": 1,
          "numCompletedTasks": 1,
          "numFailedStages": 0,
          "numFailedTasks": 0,
          "numKilledTasks": 0,
          "numSkippedStages": 0,
          "numSkippedTasks": 0,
          "numTasks": 1,
          "rowCount": 3327,
          "stageIds": [
           14
          ],
          "status": "SUCCEEDED",
          "submissionTime": "2025-07-01T12:05:16.954GMT",
          "usageDescription": ""
         },
         {
          "completionTime": "2025-07-01T12:05:15.593GMT",
          "dataRead": 65536,
          "dataWritten": 0,
          "description": "Job group for statement 51:\ndf = spark.read.csv('abfss://36952dd4-29ea-4c9a-85fa-b35583ab33cc@onelake.dfs.fabric.microsoft.com/466e2184-c19b-4669-a1ea-0398d3683846/Files/2023-03-btp-street.csv', header=True, inferSchema=True)\ndf.show(5)\n",
          "displayName": "csv at NativeMethodAccessorImpl.java:0",
          "jobGroup": "51",
          "jobId": 9,
          "jobTags": [],
          "killedTasksSummary": {},
          "name": "csv at NativeMethodAccessorImpl.java:0",
          "numActiveStages": 0,
          "numActiveTasks": 0,
          "numCompletedIndices": 1,
          "numCompletedStages": 1,
          "numCompletedTasks": 1,
          "numFailedStages": 0,
          "numFailedTasks": 0,
          "numKilledTasks": 0,
          "numSkippedStages": 0,
          "numSkippedTasks": 0,
          "numTasks": 1,
          "rowCount": 1,
          "stageIds": [
           13
          ],
          "status": "SUCCEEDED",
          "submissionTime": "2025-07-01T12:05:09.344GMT",
          "usageDescription": ""
         }
        ],
        "limit": 20,
        "numbers": {
         "FAILED": 0,
         "RUNNING": 0,
         "SUCCEEDED": 3,
         "UNKNOWN": 0
        },
        "rule": "ALL_DESC"
       },
       "spark_pool": null,
       "state": "finished",
       "statement_id": 51,
       "statement_ids": [
        51
       ]
      },
      "text/plain": [
       "StatementMeta(, 127e8a5a-d9f4-4bfa-8b59-7f3a8363207c, 51, Finished, Available, Finished)"
      ]
     },
     "metadata": {},
     "output_type": "display_data"
    },
    {
     "name": "stdout",
     "output_type": "stream",
     "text": [
      "+--------+-------------------+--------------------+--------------------+---------+---------+--------------------+---------+--------------+--------------------+---------------------+-------+\n",
      "|Crime ID|              Month|         Reported by|        Falls within|Longitude| Latitude|            Location|LSOA code|     LSOA name|          Crime type|Last outcome category|Context|\n",
      "+--------+-------------------+--------------------+--------------------+---------+---------+--------------------+---------+--------------+--------------------+---------------------+-------+\n",
      "|    NULL|2023-03-01 00:00:00|British Transport...|British Transport...|-0.236429| 50.83255|On or near Southw...|E01031375|     Adur 004G|Criminal damage a...|                 NULL|   NULL|\n",
      "|    NULL|2023-03-01 00:00:00|British Transport...|British Transport...|-0.272064|50.834327|On or near Shoreh...|E01031364|     Adur 005C|        Public order|                 NULL|   NULL|\n",
      "|    NULL|2023-03-01 00:00:00|British Transport...|British Transport...|-3.164376|54.829205|On or near Wigton...|E01019136|Allerdale 001F|Criminal damage a...|                 NULL|   NULL|\n",
      "|    NULL|2023-03-01 00:00:00|British Transport...|British Transport...|-3.164376|54.829205|On or near Wigton...|E01019136|Allerdale 001F|Violence and sexu...|                 NULL|   NULL|\n",
      "|    NULL|2023-03-01 00:00:00|British Transport...|British Transport...|-3.558622|54.645028|On or near Workin...|E01019121|Allerdale 009E|        Public order|                 NULL|   NULL|\n",
      "+--------+-------------------+--------------------+--------------------+---------+---------+--------------------+---------+--------------+--------------------+---------------------+-------+\n",
      "only showing top 5 rows\n",
      "\n"
     ]
    }
   ],
   "source": [
    "df = spark.read.csv('abfss://36952dd4-29ea-4c9a-85fa-b35583ab33cc@onelake.dfs.fabric.microsoft.com/466e2184-c19b-4669-a1ea-0398d3683846/Files/2023-03-btp-street.csv', header=True, inferSchema=True)\n",
    "df.show(5)\n"
   ]
  },
  {
   "cell_type": "code",
   "execution_count": null,
   "id": "82ef83ba",
   "metadata": {},
   "outputs": [
    {
     "data": {
      "application/vnd.livy.statement-meta+json": {
       "execution_finish_time": "2025-07-01T12:07:31.7614245Z",
       "execution_start_time": "2025-07-01T12:07:30.9004527Z",
       "livy_statement_state": "available",
       "normalized_state": "finished",
       "parent_msg_id": "b91c6d3c-9237-43e3-9cb6-fddf32a28387",
       "queued_time": "2025-07-01T12:07:30.8992948Z",
       "session_id": "127e8a5a-d9f4-4bfa-8b59-7f3a8363207c",
       "session_start_time": null,
       "spark_jobs": {
        "jobs": [
         {
          "completionTime": "2025-07-01T12:07:31.186GMT",
          "dataRead": 65536,
          "dataWritten": 0,
          "description": "Job group for statement 66:\ndf.show()",
          "displayName": "showString at NativeMethodAccessorImpl.java:0",
          "jobGroup": "66",
          "jobId": 12,
          "jobTags": [],
          "killedTasksSummary": {},
          "name": "showString at NativeMethodAccessorImpl.java:0",
          "numActiveStages": 0,
          "numActiveTasks": 0,
          "numCompletedIndices": 1,
          "numCompletedStages": 1,
          "numCompletedTasks": 1,
          "numFailedStages": 0,
          "numFailedTasks": 0,
          "numKilledTasks": 0,
          "numSkippedStages": 0,
          "numSkippedTasks": 0,
          "numTasks": 1,
          "rowCount": 21,
          "stageIds": [
           16
          ],
          "status": "SUCCEEDED",
          "submissionTime": "2025-07-01T12:07:31.079GMT",
          "usageDescription": ""
         }
        ],
        "limit": 20,
        "numbers": {
         "FAILED": 0,
         "RUNNING": 0,
         "SUCCEEDED": 1,
         "UNKNOWN": 0
        },
        "rule": "ALL_DESC"
       },
       "spark_pool": null,
       "state": "finished",
       "statement_id": 66,
       "statement_ids": [
        66
       ]
      },
      "text/plain": [
       "StatementMeta(, 127e8a5a-d9f4-4bfa-8b59-7f3a8363207c, 66, Finished, Available, Finished)"
      ]
     },
     "metadata": {},
     "output_type": "display_data"
    },
    {
     "name": "stdout",
     "output_type": "stream",
     "text": [
      "+--------+-------------------+--------------------+--------------------+---------+---------+--------------------+---------+--------------+--------------------+---------------------+-------+\n",
      "|Crime ID|              Month|         Reported by|        Falls within|Longitude| Latitude|            Location|LSOA code|     LSOA name|          Crime type|Last outcome category|Context|\n",
      "+--------+-------------------+--------------------+--------------------+---------+---------+--------------------+---------+--------------+--------------------+---------------------+-------+\n",
      "|    NULL|2023-03-01 00:00:00|British Transport...|British Transport...|-0.236429| 50.83255|On or near Southw...|E01031375|     Adur 004G|Criminal damage a...|                 NULL|   NULL|\n",
      "|    NULL|2023-03-01 00:00:00|British Transport...|British Transport...|-0.272064|50.834327|On or near Shoreh...|E01031364|     Adur 005C|        Public order|                 NULL|   NULL|\n",
      "|    NULL|2023-03-01 00:00:00|British Transport...|British Transport...|-3.164376|54.829205|On or near Wigton...|E01019136|Allerdale 001F|Criminal damage a...|                 NULL|   NULL|\n",
      "|    NULL|2023-03-01 00:00:00|British Transport...|British Transport...|-3.164376|54.829205|On or near Wigton...|E01019136|Allerdale 001F|Violence and sexu...|                 NULL|   NULL|\n",
      "|    NULL|2023-03-01 00:00:00|British Transport...|British Transport...|-3.558622|54.645028|On or near Workin...|E01019121|Allerdale 009E|        Public order|                 NULL|   NULL|\n",
      "|    NULL|2023-03-01 00:00:00|British Transport...|British Transport...|-3.558622|54.645028|On or near Workin...|E01019121|Allerdale 009E|Violence and sexu...|                 NULL|   NULL|\n",
      "|    NULL|2023-03-01 00:00:00|British Transport...|British Transport...|-0.565171|50.836697|On or near London...|E01031392|     Arun 001C|Violence and sexu...|                 NULL|   NULL|\n",
      "|    NULL|2023-03-01 00:00:00|British Transport...|British Transport...|-0.546297|50.848369|On or near Arunde...|E01031392|     Arun 001C|Violence and sexu...|                 NULL|   NULL|\n",
      "|    NULL|2023-03-01 00:00:00|British Transport...|British Transport...|-0.640042|50.831162|On or near Barnha...|E01031393|     Arun 003A|        Public order|                 NULL|   NULL|\n",
      "|    NULL|2023-03-01 00:00:00|British Transport...|British Transport...|-0.640042|50.831162|On or near Barnha...|E01031393|     Arun 003A|        Public order|                 NULL|   NULL|\n",
      "|    NULL|2023-03-01 00:00:00|British Transport...|British Transport...|-0.489195|50.816589|On or near Angmer...|E01034821|     Arun 005G|       Bicycle theft|                 NULL|   NULL|\n",
      "|    NULL|2023-03-01 00:00:00|British Transport...|British Transport...|-0.489195|50.816589|On or near Angmer...|E01034821|     Arun 005G|Criminal damage a...|                 NULL|   NULL|\n",
      "|    NULL|2023-03-01 00:00:00|British Transport...|British Transport...|-0.489195|50.816589|On or near Angmer...|E01034821|     Arun 005G|               Drugs|                 NULL|   NULL|\n",
      "|    NULL|2023-03-01 00:00:00|British Transport...|British Transport...|-0.489195|50.816589|On or near Angmer...|E01034821|     Arun 005G|        Public order|                 NULL|   NULL|\n",
      "|    NULL|2023-03-01 00:00:00|British Transport...|British Transport...|-0.489195|50.816589|On or near Angmer...|E01034821|     Arun 005G|Violence and sexu...|                 NULL|   NULL|\n",
      "|    NULL|2023-03-01 00:00:00|British Transport...|British Transport...| -0.54614|50.810001|On or near Little...|E01031428|     Arun 011B|Criminal damage a...|                 NULL|   NULL|\n",
      "|    NULL|2023-03-01 00:00:00|British Transport...|British Transport...| -0.54614|50.810001|On or near Little...|E01031428|     Arun 011B|Criminal damage a...|                 NULL|   NULL|\n",
      "|    NULL|2023-03-01 00:00:00|British Transport...|British Transport...| -0.54614|50.810001|On or near Little...|E01031428|     Arun 011B|Possession of wea...|                 NULL|   NULL|\n",
      "|    NULL|2023-03-01 00:00:00|British Transport...|British Transport...| -0.54614|50.810001|On or near Little...|E01031428|     Arun 011B|        Public order|                 NULL|   NULL|\n",
      "|    NULL|2023-03-01 00:00:00|British Transport...|British Transport...| -0.54614|50.810001|On or near Little...|E01031428|     Arun 011B|Violence and sexu...|                 NULL|   NULL|\n",
      "+--------+-------------------+--------------------+--------------------+---------+---------+--------------------+---------+--------------+--------------------+---------------------+-------+\n",
      "only showing top 20 rows\n",
      "\n"
     ]
    }
   ],
   "source": [
    "df.show()"
   ]
  },
  {
   "cell_type": "code",
   "execution_count": null,
   "id": "2bdf8a3a",
   "metadata": {},
   "outputs": [],
   "source": []
  }
 ],
 "metadata": {
  "dependencies": {},
  "kernel_info": {
   "name": "synapse_pyspark"
  },
  "kernelspec": {
   "display_name": "PySpark",
   "language": "Python",
   "name": "synapse_pyspark"
  },
  "language_info": {
   "codemirror_mode": "ipython",
   "file_extension": ".py",
   "mimetype": "text/x-python",
   "name": "python",
   "nbconvert_exporter": "python",
   "pygments_lexer": "ipython",
   "version": "3.8.0"
  },
  "microsoft": {
   "language": "python",
   "language_group": "synapse_pyspark",
   "ms_spell_check": {
    "ms_spell_check_language": "en"
   }
  },
  "nteract": {
   "version": "nteract-front-end@1.0.0"
  },
  "spark_compute": {
   "compute_id": "/trident/default",
   "session_options": {
    "conf": {
     "spark.synapse.nbs.session.timeout": "1200000"
    }
   }
  }
 },
 "nbformat": 4,
 "nbformat_minor": 5
}
